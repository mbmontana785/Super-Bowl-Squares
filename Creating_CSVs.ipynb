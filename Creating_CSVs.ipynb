{
 "cells": [
  {
   "cell_type": "markdown",
   "metadata": {},
   "source": [
    "# Super Bowl Squares\n"
   ]
  },
  {
   "cell_type": "markdown",
   "metadata": {},
   "source": [
    "## First notebook: Creating CSVs\n",
    "\n",
    "<b>Project:</b> Super Bowl Squares Tableau Heat Map.\n",
    "\n",
    "It's a gambling tradition to bet on Super Bowl squares, in which you pay for a square on a 10-x-10 grid, and based on a random drawing that square is assigned a digit from 0-9 for the AFC team's score and a digit from 0-9 for the NFC team's score. The digit represents the ones digit for the score. For example, if your square is 0 NFC and 7 AFC, and the score is Eagles 20, Chiefs 17 or Chiefs 27, Eagles 10, your square wins.\n",
    "\n",
    "In this notebook, we created five CSVs that we'll concatenate into an 872 X 5 dataframe. The reason it's five separate CSVs is because we weren't allowed to scrape 872 tables in one session."
   ]
  },
  {
   "cell_type": "code",
   "execution_count": 42,
   "metadata": {},
   "outputs": [],
   "source": [
    "#Import libraries\n",
    "import pandas as pd\n",
    "import numpy as np\n",
    "from bs4 import BeautifulSoup\n",
    "import requests\n",
    "import unidecode\n",
    "import datetime as dt\n",
    "from datetime import timedelta\n",
    "from collections import Counter"
   ]
  },
  {
   "cell_type": "markdown",
   "metadata": {},
   "source": [
    "# Copying and pasting, for now\n",
    "We copied and pasted the table with every score occurrence in NFL history from <a hef=\"https://www.pro-football-reference.com/boxscores/game-scores.htm\">Pro Football Reference</a>. Copying and pasting 1075 rows might be a little clumsy, but it's a chance to get around scraping for now. As we'll see later, we get thrown into scraping jail if we scrape too frequently."
   ]
  },
  {
   "cell_type": "code",
   "execution_count": 43,
   "metadata": {},
   "outputs": [],
   "source": [
    "nfl_scores_df = pd.read_csv('nflscores.csv')"
   ]
  },
  {
   "cell_type": "code",
   "execution_count": 44,
   "metadata": {},
   "outputs": [
    {
     "data": {
      "text/html": [
       "<div>\n",
       "<style scoped>\n",
       "    .dataframe tbody tr th:only-of-type {\n",
       "        vertical-align: middle;\n",
       "    }\n",
       "\n",
       "    .dataframe tbody tr th {\n",
       "        vertical-align: top;\n",
       "    }\n",
       "\n",
       "    .dataframe thead th {\n",
       "        text-align: right;\n",
       "    }\n",
       "</style>\n",
       "<table border=\"1\" class=\"dataframe\">\n",
       "  <thead>\n",
       "    <tr style=\"text-align: right;\">\n",
       "      <th></th>\n",
       "      <th>Rk</th>\n",
       "      <th>Score</th>\n",
       "      <th>PtsW</th>\n",
       "      <th>PtsL</th>\n",
       "      <th>PtTot</th>\n",
       "      <th>PD</th>\n",
       "      <th>Count</th>\n",
       "      <th>Unnamed: 7</th>\n",
       "      <th>Last Game</th>\n",
       "    </tr>\n",
       "  </thead>\n",
       "  <tbody>\n",
       "    <tr>\n",
       "      <th>0</th>\n",
       "      <td>1</td>\n",
       "      <td>20-17</td>\n",
       "      <td>20</td>\n",
       "      <td>17</td>\n",
       "      <td>37</td>\n",
       "      <td>3</td>\n",
       "      <td>282</td>\n",
       "      <td>all games</td>\n",
       "      <td>Detroit Lions vs. New York Jets December 18 2022</td>\n",
       "    </tr>\n",
       "    <tr>\n",
       "      <th>1</th>\n",
       "      <td>2</td>\n",
       "      <td>27-24</td>\n",
       "      <td>27</td>\n",
       "      <td>24</td>\n",
       "      <td>51</td>\n",
       "      <td>3</td>\n",
       "      <td>230</td>\n",
       "      <td>all games</td>\n",
       "      <td>Kansas City Chiefs vs. Denver Broncos January ...</td>\n",
       "    </tr>\n",
       "    <tr>\n",
       "      <th>2</th>\n",
       "      <td>3</td>\n",
       "      <td>17-14</td>\n",
       "      <td>17</td>\n",
       "      <td>14</td>\n",
       "      <td>31</td>\n",
       "      <td>3</td>\n",
       "      <td>200</td>\n",
       "      <td>all games</td>\n",
       "      <td>Los Angeles Chargers vs. Tennessee Titans Dece...</td>\n",
       "    </tr>\n",
       "    <tr>\n",
       "      <th>3</th>\n",
       "      <td>4</td>\n",
       "      <td>23-20</td>\n",
       "      <td>23</td>\n",
       "      <td>20</td>\n",
       "      <td>43</td>\n",
       "      <td>3</td>\n",
       "      <td>199</td>\n",
       "      <td>all games</td>\n",
       "      <td>Kansas City Chiefs vs. Cincinnati Bengals Janu...</td>\n",
       "    </tr>\n",
       "    <tr>\n",
       "      <th>4</th>\n",
       "      <td>5</td>\n",
       "      <td>24-17</td>\n",
       "      <td>24</td>\n",
       "      <td>17</td>\n",
       "      <td>41</td>\n",
       "      <td>7</td>\n",
       "      <td>173</td>\n",
       "      <td>all games</td>\n",
       "      <td>Cincinnati Bengals vs. Baltimore Ravens Januar...</td>\n",
       "    </tr>\n",
       "  </tbody>\n",
       "</table>\n",
       "</div>"
      ],
      "text/plain": [
       "   Rk  Score  PtsW  PtsL  PtTot  PD  Count Unnamed: 7  \\\n",
       "0   1  20-17    20    17     37   3    282  all games   \n",
       "1   2  27-24    27    24     51   3    230  all games   \n",
       "2   3  17-14    17    14     31   3    200  all games   \n",
       "3   4  23-20    23    20     43   3    199  all games   \n",
       "4   5  24-17    24    17     41   7    173  all games   \n",
       "\n",
       "                                           Last Game  \n",
       "0   Detroit Lions vs. New York Jets December 18 2022  \n",
       "1  Kansas City Chiefs vs. Denver Broncos January ...  \n",
       "2  Los Angeles Chargers vs. Tennessee Titans Dece...  \n",
       "3  Kansas City Chiefs vs. Cincinnati Bengals Janu...  \n",
       "4  Cincinnati Bengals vs. Baltimore Ravens Januar...  "
      ]
     },
     "execution_count": 44,
     "metadata": {},
     "output_type": "execute_result"
    }
   ],
   "source": [
    "nfl_scores_df.head()"
   ]
  },
  {
   "cell_type": "code",
   "execution_count": 45,
   "metadata": {},
   "outputs": [
    {
     "data": {
      "text/html": [
       "<div>\n",
       "<style scoped>\n",
       "    .dataframe tbody tr th:only-of-type {\n",
       "        vertical-align: middle;\n",
       "    }\n",
       "\n",
       "    .dataframe tbody tr th {\n",
       "        vertical-align: top;\n",
       "    }\n",
       "\n",
       "    .dataframe thead th {\n",
       "        text-align: right;\n",
       "    }\n",
       "</style>\n",
       "<table border=\"1\" class=\"dataframe\">\n",
       "  <thead>\n",
       "    <tr style=\"text-align: right;\">\n",
       "      <th></th>\n",
       "      <th>Rk</th>\n",
       "      <th>Score</th>\n",
       "      <th>PtsW</th>\n",
       "      <th>PtsL</th>\n",
       "      <th>PtTot</th>\n",
       "      <th>PD</th>\n",
       "      <th>Count</th>\n",
       "      <th>Unnamed: 7</th>\n",
       "      <th>Last Game</th>\n",
       "    </tr>\n",
       "  </thead>\n",
       "  <tbody>\n",
       "    <tr>\n",
       "      <th>1070</th>\n",
       "      <td>1071</td>\n",
       "      <td>7-5</td>\n",
       "      <td>7</td>\n",
       "      <td>5</td>\n",
       "      <td>12</td>\n",
       "      <td>2</td>\n",
       "      <td>1</td>\n",
       "      <td>all games</td>\n",
       "      <td>Washington Redskins vs. Detroit Lions October ...</td>\n",
       "    </tr>\n",
       "    <tr>\n",
       "      <th>1071</th>\n",
       "      <td>1072</td>\n",
       "      <td>59-21</td>\n",
       "      <td>59</td>\n",
       "      <td>21</td>\n",
       "      <td>80</td>\n",
       "      <td>38</td>\n",
       "      <td>1</td>\n",
       "      <td>all games</td>\n",
       "      <td>Washington Redskins vs. Boston Yanks October 3...</td>\n",
       "    </tr>\n",
       "    <tr>\n",
       "      <th>1072</th>\n",
       "      <td>1073</td>\n",
       "      <td>72-41</td>\n",
       "      <td>72</td>\n",
       "      <td>41</td>\n",
       "      <td>113</td>\n",
       "      <td>31</td>\n",
       "      <td>1</td>\n",
       "      <td>all games</td>\n",
       "      <td>Washington Redskins vs. New York Giants Novemb...</td>\n",
       "    </tr>\n",
       "    <tr>\n",
       "      <th>1073</th>\n",
       "      <td>1074</td>\n",
       "      <td>33-9</td>\n",
       "      <td>33</td>\n",
       "      <td>9</td>\n",
       "      <td>42</td>\n",
       "      <td>24</td>\n",
       "      <td>1</td>\n",
       "      <td>all games</td>\n",
       "      <td>Washington Redskins vs. San Francisco 49ers No...</td>\n",
       "    </tr>\n",
       "    <tr>\n",
       "      <th>1074</th>\n",
       "      <td>1075</td>\n",
       "      <td>38-12</td>\n",
       "      <td>38</td>\n",
       "      <td>12</td>\n",
       "      <td>50</td>\n",
       "      <td>26</td>\n",
       "      <td>1</td>\n",
       "      <td>all games</td>\n",
       "      <td>Washington Redskins vs. New York Giants Octobe...</td>\n",
       "    </tr>\n",
       "  </tbody>\n",
       "</table>\n",
       "</div>"
      ],
      "text/plain": [
       "        Rk  Score  PtsW  PtsL  PtTot  PD  Count Unnamed: 7  \\\n",
       "1070  1071    7-5     7     5     12   2      1  all games   \n",
       "1071  1072  59-21    59    21     80  38      1  all games   \n",
       "1072  1073  72-41    72    41    113  31      1  all games   \n",
       "1073  1074   33-9    33     9     42  24      1  all games   \n",
       "1074  1075  38-12    38    12     50  26      1  all games   \n",
       "\n",
       "                                              Last Game  \n",
       "1070  Washington Redskins vs. Detroit Lions October ...  \n",
       "1071  Washington Redskins vs. Boston Yanks October 3...  \n",
       "1072  Washington Redskins vs. New York Giants Novemb...  \n",
       "1073  Washington Redskins vs. San Francisco 49ers No...  \n",
       "1074  Washington Redskins vs. New York Giants Octobe...  "
      ]
     },
     "execution_count": 45,
     "metadata": {},
     "output_type": "execute_result"
    }
   ],
   "source": [
    "nfl_scores_df.tail()"
   ]
  },
  {
   "cell_type": "code",
   "execution_count": 46,
   "metadata": {},
   "outputs": [
    {
     "name": "stdout",
     "output_type": "stream",
     "text": [
      "<class 'pandas.core.frame.DataFrame'>\n",
      "RangeIndex: 1075 entries, 0 to 1074\n",
      "Data columns (total 9 columns):\n",
      " #   Column      Non-Null Count  Dtype \n",
      "---  ------      --------------  ----- \n",
      " 0   Rk          1075 non-null   int64 \n",
      " 1   Score       1075 non-null   object\n",
      " 2   PtsW        1075 non-null   int64 \n",
      " 3   PtsL        1075 non-null   int64 \n",
      " 4   PtTot       1075 non-null   int64 \n",
      " 5   PD          1075 non-null   int64 \n",
      " 6   Count       1075 non-null   int64 \n",
      " 7   Unnamed: 7  1075 non-null   object\n",
      " 8   Last Game   1075 non-null   object\n",
      "dtypes: int64(6), object(3)\n",
      "memory usage: 75.7+ KB\n"
     ]
    }
   ],
   "source": [
    "nfl_scores_df.info()"
   ]
  },
  {
   "cell_type": "markdown",
   "metadata": {},
   "source": [
    "# Creating a Year column\n",
    "Now let's extract the year from that Last Game string to create a Year column. We'll do this by slicing the last four characters of the Last Game string. Then we'll turn it into an integer."
   ]
  },
  {
   "cell_type": "code",
   "execution_count": 47,
   "metadata": {},
   "outputs": [],
   "source": [
    "nfl_scores_df['Year'] = nfl_scores_df['Last Game'].str[-4:]"
   ]
  },
  {
   "cell_type": "code",
   "execution_count": 48,
   "metadata": {},
   "outputs": [
    {
     "data": {
      "text/html": [
       "<div>\n",
       "<style scoped>\n",
       "    .dataframe tbody tr th:only-of-type {\n",
       "        vertical-align: middle;\n",
       "    }\n",
       "\n",
       "    .dataframe tbody tr th {\n",
       "        vertical-align: top;\n",
       "    }\n",
       "\n",
       "    .dataframe thead th {\n",
       "        text-align: right;\n",
       "    }\n",
       "</style>\n",
       "<table border=\"1\" class=\"dataframe\">\n",
       "  <thead>\n",
       "    <tr style=\"text-align: right;\">\n",
       "      <th></th>\n",
       "      <th>Rk</th>\n",
       "      <th>Score</th>\n",
       "      <th>PtsW</th>\n",
       "      <th>PtsL</th>\n",
       "      <th>PtTot</th>\n",
       "      <th>PD</th>\n",
       "      <th>Count</th>\n",
       "      <th>Unnamed: 7</th>\n",
       "      <th>Last Game</th>\n",
       "      <th>Year</th>\n",
       "    </tr>\n",
       "  </thead>\n",
       "  <tbody>\n",
       "    <tr>\n",
       "      <th>0</th>\n",
       "      <td>1</td>\n",
       "      <td>20-17</td>\n",
       "      <td>20</td>\n",
       "      <td>17</td>\n",
       "      <td>37</td>\n",
       "      <td>3</td>\n",
       "      <td>282</td>\n",
       "      <td>all games</td>\n",
       "      <td>Detroit Lions vs. New York Jets December 18 2022</td>\n",
       "      <td>2022</td>\n",
       "    </tr>\n",
       "    <tr>\n",
       "      <th>1</th>\n",
       "      <td>2</td>\n",
       "      <td>27-24</td>\n",
       "      <td>27</td>\n",
       "      <td>24</td>\n",
       "      <td>51</td>\n",
       "      <td>3</td>\n",
       "      <td>230</td>\n",
       "      <td>all games</td>\n",
       "      <td>Kansas City Chiefs vs. Denver Broncos January ...</td>\n",
       "      <td>2023</td>\n",
       "    </tr>\n",
       "    <tr>\n",
       "      <th>2</th>\n",
       "      <td>3</td>\n",
       "      <td>17-14</td>\n",
       "      <td>17</td>\n",
       "      <td>14</td>\n",
       "      <td>31</td>\n",
       "      <td>3</td>\n",
       "      <td>200</td>\n",
       "      <td>all games</td>\n",
       "      <td>Los Angeles Chargers vs. Tennessee Titans Dece...</td>\n",
       "      <td>2022</td>\n",
       "    </tr>\n",
       "    <tr>\n",
       "      <th>3</th>\n",
       "      <td>4</td>\n",
       "      <td>23-20</td>\n",
       "      <td>23</td>\n",
       "      <td>20</td>\n",
       "      <td>43</td>\n",
       "      <td>3</td>\n",
       "      <td>199</td>\n",
       "      <td>all games</td>\n",
       "      <td>Kansas City Chiefs vs. Cincinnati Bengals Janu...</td>\n",
       "      <td>2023</td>\n",
       "    </tr>\n",
       "    <tr>\n",
       "      <th>4</th>\n",
       "      <td>5</td>\n",
       "      <td>24-17</td>\n",
       "      <td>24</td>\n",
       "      <td>17</td>\n",
       "      <td>41</td>\n",
       "      <td>7</td>\n",
       "      <td>173</td>\n",
       "      <td>all games</td>\n",
       "      <td>Cincinnati Bengals vs. Baltimore Ravens Januar...</td>\n",
       "      <td>2023</td>\n",
       "    </tr>\n",
       "  </tbody>\n",
       "</table>\n",
       "</div>"
      ],
      "text/plain": [
       "   Rk  Score  PtsW  PtsL  PtTot  PD  Count Unnamed: 7  \\\n",
       "0   1  20-17    20    17     37   3    282  all games   \n",
       "1   2  27-24    27    24     51   3    230  all games   \n",
       "2   3  17-14    17    14     31   3    200  all games   \n",
       "3   4  23-20    23    20     43   3    199  all games   \n",
       "4   5  24-17    24    17     41   7    173  all games   \n",
       "\n",
       "                                           Last Game  Year  \n",
       "0   Detroit Lions vs. New York Jets December 18 2022  2022  \n",
       "1  Kansas City Chiefs vs. Denver Broncos January ...  2023  \n",
       "2  Los Angeles Chargers vs. Tennessee Titans Dece...  2022  \n",
       "3  Kansas City Chiefs vs. Cincinnati Bengals Janu...  2023  \n",
       "4  Cincinnati Bengals vs. Baltimore Ravens Januar...  2023  "
      ]
     },
     "execution_count": 48,
     "metadata": {},
     "output_type": "execute_result"
    }
   ],
   "source": [
    "nfl_scores_df.head()"
   ]
  },
  {
   "cell_type": "code",
   "execution_count": 49,
   "metadata": {},
   "outputs": [
    {
     "name": "stdout",
     "output_type": "stream",
     "text": [
      "<class 'pandas.core.frame.DataFrame'>\n",
      "RangeIndex: 1075 entries, 0 to 1074\n",
      "Data columns (total 10 columns):\n",
      " #   Column      Non-Null Count  Dtype \n",
      "---  ------      --------------  ----- \n",
      " 0   Rk          1075 non-null   int64 \n",
      " 1   Score       1075 non-null   object\n",
      " 2   PtsW        1075 non-null   int64 \n",
      " 3   PtsL        1075 non-null   int64 \n",
      " 4   PtTot       1075 non-null   int64 \n",
      " 5   PD          1075 non-null   int64 \n",
      " 6   Count       1075 non-null   int64 \n",
      " 7   Unnamed: 7  1075 non-null   object\n",
      " 8   Last Game   1075 non-null   object\n",
      " 9   Year        1075 non-null   object\n",
      "dtypes: int64(6), object(4)\n",
      "memory usage: 84.1+ KB\n"
     ]
    }
   ],
   "source": [
    "nfl_scores_df.info()"
   ]
  },
  {
   "cell_type": "code",
   "execution_count": 50,
   "metadata": {},
   "outputs": [],
   "source": [
    "nfl_scores_df['Year'] = pd.to_numeric(nfl_scores_df['Year'])"
   ]
  },
  {
   "cell_type": "code",
   "execution_count": 51,
   "metadata": {},
   "outputs": [
    {
     "name": "stdout",
     "output_type": "stream",
     "text": [
      "<class 'pandas.core.frame.DataFrame'>\n",
      "RangeIndex: 1075 entries, 0 to 1074\n",
      "Data columns (total 10 columns):\n",
      " #   Column      Non-Null Count  Dtype \n",
      "---  ------      --------------  ----- \n",
      " 0   Rk          1075 non-null   int64 \n",
      " 1   Score       1075 non-null   object\n",
      " 2   PtsW        1075 non-null   int64 \n",
      " 3   PtsL        1075 non-null   int64 \n",
      " 4   PtTot       1075 non-null   int64 \n",
      " 5   PD          1075 non-null   int64 \n",
      " 6   Count       1075 non-null   int64 \n",
      " 7   Unnamed: 7  1075 non-null   object\n",
      " 8   Last Game   1075 non-null   object\n",
      " 9   Year        1075 non-null   int64 \n",
      "dtypes: int64(7), object(3)\n",
      "memory usage: 84.1+ KB\n"
     ]
    }
   ],
   "source": [
    "nfl_scores_df.info()"
   ]
  },
  {
   "cell_type": "markdown",
   "metadata": {},
   "source": [
    "# Exploring the Year column\n",
    "The years range from 1920 to 2023. That's a good thing. The histogram bins seem to increase as time goes on, with a sharp spike since 2020. That seems to make sense since the NFL started playing 16 games instead of 14 games in 1978 and then went to 17 games in 2021. Before the Super Bowl era, teams weren't even playing 14 games. Also, the Year column represents the most recent instance of each score, so the histogram should be skewed to more recent years."
   ]
  },
  {
   "cell_type": "code",
   "execution_count": 52,
   "metadata": {},
   "outputs": [
    {
     "name": "stdout",
     "output_type": "stream",
     "text": [
      "2023 1920\n"
     ]
    }
   ],
   "source": [
    "print(max(nfl_scores_df['Year']), min(nfl_scores_df['Year']),)"
   ]
  },
  {
   "cell_type": "code",
   "execution_count": 53,
   "metadata": {},
   "outputs": [],
   "source": [
    "import matplotlib.pyplot as plt"
   ]
  },
  {
   "cell_type": "code",
   "execution_count": 54,
   "metadata": {},
   "outputs": [
    {
     "data": {
      "image/png": "[encoded data removed]",
      "text/plain": [
       "<Figure size 432x288 with 1 Axes>"
      ]
     },
     "metadata": {
      "needs_background": "light"
     },
     "output_type": "display_data"
    }
   ],
   "source": [
    "plt.hist(nfl_scores_df['Year'], bins = 30);"
   ]
  },
  {
   "cell_type": "code",
   "execution_count": null,
   "metadata": {},
   "outputs": [],
   "source": []
  },
  {
   "cell_type": "markdown",
   "metadata": {},
   "source": [
    "# Discarding all scores before 1994\n",
    "\n",
    "We'll create a dataframe that only goes back to 1994. Why 1994? Because that was the first year the 2-point conversion was allowed in the NFL, so that affects scoring possibilities. If a team was down 28-20 before 1994, for example, and they scored a touchdown for six points, they didn't have the choice to go for two and tie it. They only could kick the extra point. So there would have been about a 90 percent chance that the score would end up being 28-27 after that TD. Now, if a team scores to TD to pull to within 28-26, they can go for two, which means instead of a 90 percent chance of a 28-27 score, there's about a 50-50 chance the score will be either 28-26 or 28-28."
   ]
  },
  {
   "cell_type": "code",
   "execution_count": 55,
   "metadata": {},
   "outputs": [],
   "source": [
    "since_1994 = nfl_scores_df[nfl_scores_df['Year'] >= 1994]"
   ]
  },
  {
   "cell_type": "code",
   "execution_count": 56,
   "metadata": {},
   "outputs": [],
   "source": [
    "since_1994 = since_1994.sort_values(by = 'Year')"
   ]
  },
  {
   "cell_type": "code",
   "execution_count": 57,
   "metadata": {},
   "outputs": [
    {
     "data": {
      "text/html": [
       "<div>\n",
       "<style scoped>\n",
       "    .dataframe tbody tr th:only-of-type {\n",
       "        vertical-align: middle;\n",
       "    }\n",
       "\n",
       "    .dataframe tbody tr th {\n",
       "        vertical-align: top;\n",
       "    }\n",
       "\n",
       "    .dataframe thead th {\n",
       "        text-align: right;\n",
       "    }\n",
       "</style>\n",
       "<table border=\"1\" class=\"dataframe\">\n",
       "  <thead>\n",
       "    <tr style=\"text-align: right;\">\n",
       "      <th></th>\n",
       "      <th>Rk</th>\n",
       "      <th>Score</th>\n",
       "      <th>PtsW</th>\n",
       "      <th>PtsL</th>\n",
       "      <th>PtTot</th>\n",
       "      <th>PD</th>\n",
       "      <th>Count</th>\n",
       "      <th>Unnamed: 7</th>\n",
       "      <th>Last Game</th>\n",
       "      <th>Year</th>\n",
       "    </tr>\n",
       "  </thead>\n",
       "  <tbody>\n",
       "    <tr>\n",
       "      <th>1056</th>\n",
       "      <td>1057</td>\n",
       "      <td>44-3</td>\n",
       "      <td>44</td>\n",
       "      <td>3</td>\n",
       "      <td>47</td>\n",
       "      <td>41</td>\n",
       "      <td>1</td>\n",
       "      <td>all games</td>\n",
       "      <td>San Francisco 49ers vs. New York Giants Januar...</td>\n",
       "      <td>1994</td>\n",
       "    </tr>\n",
       "    <tr>\n",
       "      <th>506</th>\n",
       "      <td>507</td>\n",
       "      <td>35-15</td>\n",
       "      <td>35</td>\n",
       "      <td>15</td>\n",
       "      <td>50</td>\n",
       "      <td>20</td>\n",
       "      <td>5</td>\n",
       "      <td>all games</td>\n",
       "      <td>San Diego Chargers vs. Seattle Seahawks Octobe...</td>\n",
       "      <td>1994</td>\n",
       "    </tr>\n",
       "    <tr>\n",
       "      <th>579</th>\n",
       "      <td>580</td>\n",
       "      <td>41-19</td>\n",
       "      <td>41</td>\n",
       "      <td>19</td>\n",
       "      <td>60</td>\n",
       "      <td>22</td>\n",
       "      <td>4</td>\n",
       "      <td>all games</td>\n",
       "      <td>Detroit Lions vs. Minnesota Vikings December 1...</td>\n",
       "      <td>1994</td>\n",
       "    </tr>\n",
       "    <tr>\n",
       "      <th>445</th>\n",
       "      <td>446</td>\n",
       "      <td>42-31</td>\n",
       "      <td>42</td>\n",
       "      <td>31</td>\n",
       "      <td>73</td>\n",
       "      <td>11</td>\n",
       "      <td>7</td>\n",
       "      <td>all games</td>\n",
       "      <td>Buffalo Bills vs. Miami Dolphins December 4 1994</td>\n",
       "      <td>1994</td>\n",
       "    </tr>\n",
       "    <tr>\n",
       "      <th>824</th>\n",
       "      <td>825</td>\n",
       "      <td>8-5</td>\n",
       "      <td>8</td>\n",
       "      <td>5</td>\n",
       "      <td>13</td>\n",
       "      <td>3</td>\n",
       "      <td>1</td>\n",
       "      <td>all games</td>\n",
       "      <td>Atlanta Falcons vs. Los Angeles Rams October 2...</td>\n",
       "      <td>1994</td>\n",
       "    </tr>\n",
       "  </tbody>\n",
       "</table>\n",
       "</div>"
      ],
      "text/plain": [
       "        Rk  Score  PtsW  PtsL  PtTot  PD  Count Unnamed: 7  \\\n",
       "1056  1057   44-3    44     3     47  41      1  all games   \n",
       "506    507  35-15    35    15     50  20      5  all games   \n",
       "579    580  41-19    41    19     60  22      4  all games   \n",
       "445    446  42-31    42    31     73  11      7  all games   \n",
       "824    825    8-5     8     5     13   3      1  all games   \n",
       "\n",
       "                                              Last Game  Year  \n",
       "1056  San Francisco 49ers vs. New York Giants Januar...  1994  \n",
       "506   San Diego Chargers vs. Seattle Seahawks Octobe...  1994  \n",
       "579   Detroit Lions vs. Minnesota Vikings December 1...  1994  \n",
       "445    Buffalo Bills vs. Miami Dolphins December 4 1994  1994  \n",
       "824   Atlanta Falcons vs. Los Angeles Rams October 2...  1994  "
      ]
     },
     "execution_count": 57,
     "metadata": {},
     "output_type": "execute_result"
    }
   ],
   "source": [
    "since_1994.head()"
   ]
  },
  {
   "cell_type": "markdown",
   "metadata": {},
   "source": [
    "# Trimming one more\n",
    "We'll take a look at all the scores that last occurred in 1994. Just from looking at the page in PFF, we know that first score is a playoff game in January of 1994, so that actually was before the 1994 season and 2-point conversions still weren't allowed. So we'll drop that row."
   ]
  },
  {
   "cell_type": "code",
   "execution_count": 58,
   "metadata": {},
   "outputs": [
    {
     "data": {
      "text/html": [
       "<div>\n",
       "<style scoped>\n",
       "    .dataframe tbody tr th:only-of-type {\n",
       "        vertical-align: middle;\n",
       "    }\n",
       "\n",
       "    .dataframe tbody tr th {\n",
       "        vertical-align: top;\n",
       "    }\n",
       "\n",
       "    .dataframe thead th {\n",
       "        text-align: right;\n",
       "    }\n",
       "</style>\n",
       "<table border=\"1\" class=\"dataframe\">\n",
       "  <thead>\n",
       "    <tr style=\"text-align: right;\">\n",
       "      <th></th>\n",
       "      <th>Rk</th>\n",
       "      <th>Score</th>\n",
       "      <th>PtsW</th>\n",
       "      <th>PtsL</th>\n",
       "      <th>PtTot</th>\n",
       "      <th>PD</th>\n",
       "      <th>Count</th>\n",
       "      <th>Unnamed: 7</th>\n",
       "      <th>Last Game</th>\n",
       "      <th>Year</th>\n",
       "    </tr>\n",
       "  </thead>\n",
       "  <tbody>\n",
       "    <tr>\n",
       "      <th>1056</th>\n",
       "      <td>1057</td>\n",
       "      <td>44-3</td>\n",
       "      <td>44</td>\n",
       "      <td>3</td>\n",
       "      <td>47</td>\n",
       "      <td>41</td>\n",
       "      <td>1</td>\n",
       "      <td>all games</td>\n",
       "      <td>San Francisco 49ers vs. New York Giants Januar...</td>\n",
       "      <td>1994</td>\n",
       "    </tr>\n",
       "    <tr>\n",
       "      <th>506</th>\n",
       "      <td>507</td>\n",
       "      <td>35-15</td>\n",
       "      <td>35</td>\n",
       "      <td>15</td>\n",
       "      <td>50</td>\n",
       "      <td>20</td>\n",
       "      <td>5</td>\n",
       "      <td>all games</td>\n",
       "      <td>San Diego Chargers vs. Seattle Seahawks Octobe...</td>\n",
       "      <td>1994</td>\n",
       "    </tr>\n",
       "    <tr>\n",
       "      <th>579</th>\n",
       "      <td>580</td>\n",
       "      <td>41-19</td>\n",
       "      <td>41</td>\n",
       "      <td>19</td>\n",
       "      <td>60</td>\n",
       "      <td>22</td>\n",
       "      <td>4</td>\n",
       "      <td>all games</td>\n",
       "      <td>Detroit Lions vs. Minnesota Vikings December 1...</td>\n",
       "      <td>1994</td>\n",
       "    </tr>\n",
       "    <tr>\n",
       "      <th>445</th>\n",
       "      <td>446</td>\n",
       "      <td>42-31</td>\n",
       "      <td>42</td>\n",
       "      <td>31</td>\n",
       "      <td>73</td>\n",
       "      <td>11</td>\n",
       "      <td>7</td>\n",
       "      <td>all games</td>\n",
       "      <td>Buffalo Bills vs. Miami Dolphins December 4 1994</td>\n",
       "      <td>1994</td>\n",
       "    </tr>\n",
       "    <tr>\n",
       "      <th>824</th>\n",
       "      <td>825</td>\n",
       "      <td>8-5</td>\n",
       "      <td>8</td>\n",
       "      <td>5</td>\n",
       "      <td>13</td>\n",
       "      <td>3</td>\n",
       "      <td>1</td>\n",
       "      <td>all games</td>\n",
       "      <td>Atlanta Falcons vs. Los Angeles Rams October 2...</td>\n",
       "      <td>1994</td>\n",
       "    </tr>\n",
       "    <tr>\n",
       "      <th>367</th>\n",
       "      <td>368</td>\n",
       "      <td>32-0</td>\n",
       "      <td>32</td>\n",
       "      <td>0</td>\n",
       "      <td>32</td>\n",
       "      <td>32</td>\n",
       "      <td>10</td>\n",
       "      <td>all games</td>\n",
       "      <td>Cleveland Browns vs. Arizona Cardinals Septemb...</td>\n",
       "      <td>1994</td>\n",
       "    </tr>\n",
       "    <tr>\n",
       "      <th>861</th>\n",
       "      <td>862</td>\n",
       "      <td>11-8</td>\n",
       "      <td>11</td>\n",
       "      <td>8</td>\n",
       "      <td>19</td>\n",
       "      <td>3</td>\n",
       "      <td>1</td>\n",
       "      <td>all games</td>\n",
       "      <td>Cleveland Browns vs. Houston Oilers October 13...</td>\n",
       "      <td>1994</td>\n",
       "    </tr>\n",
       "    <tr>\n",
       "      <th>978</th>\n",
       "      <td>979</td>\n",
       "      <td>40-8</td>\n",
       "      <td>40</td>\n",
       "      <td>8</td>\n",
       "      <td>48</td>\n",
       "      <td>32</td>\n",
       "      <td>1</td>\n",
       "      <td>all games</td>\n",
       "      <td>Philadelphia Eagles vs. San Francisco 49ers Oc...</td>\n",
       "      <td>1994</td>\n",
       "    </tr>\n",
       "  </tbody>\n",
       "</table>\n",
       "</div>"
      ],
      "text/plain": [
       "        Rk  Score  PtsW  PtsL  PtTot  PD  Count Unnamed: 7  \\\n",
       "1056  1057   44-3    44     3     47  41      1  all games   \n",
       "506    507  35-15    35    15     50  20      5  all games   \n",
       "579    580  41-19    41    19     60  22      4  all games   \n",
       "445    446  42-31    42    31     73  11      7  all games   \n",
       "824    825    8-5     8     5     13   3      1  all games   \n",
       "367    368   32-0    32     0     32  32     10  all games   \n",
       "861    862   11-8    11     8     19   3      1  all games   \n",
       "978    979   40-8    40     8     48  32      1  all games   \n",
       "\n",
       "                                              Last Game  Year  \n",
       "1056  San Francisco 49ers vs. New York Giants Januar...  1994  \n",
       "506   San Diego Chargers vs. Seattle Seahawks Octobe...  1994  \n",
       "579   Detroit Lions vs. Minnesota Vikings December 1...  1994  \n",
       "445    Buffalo Bills vs. Miami Dolphins December 4 1994  1994  \n",
       "824   Atlanta Falcons vs. Los Angeles Rams October 2...  1994  \n",
       "367   Cleveland Browns vs. Arizona Cardinals Septemb...  1994  \n",
       "861   Cleveland Browns vs. Houston Oilers October 13...  1994  \n",
       "978   Philadelphia Eagles vs. San Francisco 49ers Oc...  1994  "
      ]
     },
     "execution_count": 58,
     "metadata": {},
     "output_type": "execute_result"
    }
   ],
   "source": [
    "since_1994[since_1994['Year'] == 1994]"
   ]
  },
  {
   "cell_type": "code",
   "execution_count": 59,
   "metadata": {},
   "outputs": [],
   "source": [
    "since_1994 = since_1994.drop(labels=1056, axis = 0)"
   ]
  },
  {
   "cell_type": "code",
   "execution_count": 60,
   "metadata": {},
   "outputs": [
    {
     "data": {
      "text/html": [
       "<div>\n",
       "<style scoped>\n",
       "    .dataframe tbody tr th:only-of-type {\n",
       "        vertical-align: middle;\n",
       "    }\n",
       "\n",
       "    .dataframe tbody tr th {\n",
       "        vertical-align: top;\n",
       "    }\n",
       "\n",
       "    .dataframe thead th {\n",
       "        text-align: right;\n",
       "    }\n",
       "</style>\n",
       "<table border=\"1\" class=\"dataframe\">\n",
       "  <thead>\n",
       "    <tr style=\"text-align: right;\">\n",
       "      <th></th>\n",
       "      <th>Rk</th>\n",
       "      <th>Score</th>\n",
       "      <th>PtsW</th>\n",
       "      <th>PtsL</th>\n",
       "      <th>PtTot</th>\n",
       "      <th>PD</th>\n",
       "      <th>Count</th>\n",
       "      <th>Unnamed: 7</th>\n",
       "      <th>Last Game</th>\n",
       "      <th>Year</th>\n",
       "    </tr>\n",
       "  </thead>\n",
       "  <tbody>\n",
       "    <tr>\n",
       "      <th>506</th>\n",
       "      <td>507</td>\n",
       "      <td>35-15</td>\n",
       "      <td>35</td>\n",
       "      <td>15</td>\n",
       "      <td>50</td>\n",
       "      <td>20</td>\n",
       "      <td>5</td>\n",
       "      <td>all games</td>\n",
       "      <td>San Diego Chargers vs. Seattle Seahawks Octobe...</td>\n",
       "      <td>1994</td>\n",
       "    </tr>\n",
       "    <tr>\n",
       "      <th>579</th>\n",
       "      <td>580</td>\n",
       "      <td>41-19</td>\n",
       "      <td>41</td>\n",
       "      <td>19</td>\n",
       "      <td>60</td>\n",
       "      <td>22</td>\n",
       "      <td>4</td>\n",
       "      <td>all games</td>\n",
       "      <td>Detroit Lions vs. Minnesota Vikings December 1...</td>\n",
       "      <td>1994</td>\n",
       "    </tr>\n",
       "    <tr>\n",
       "      <th>445</th>\n",
       "      <td>446</td>\n",
       "      <td>42-31</td>\n",
       "      <td>42</td>\n",
       "      <td>31</td>\n",
       "      <td>73</td>\n",
       "      <td>11</td>\n",
       "      <td>7</td>\n",
       "      <td>all games</td>\n",
       "      <td>Buffalo Bills vs. Miami Dolphins December 4 1994</td>\n",
       "      <td>1994</td>\n",
       "    </tr>\n",
       "    <tr>\n",
       "      <th>824</th>\n",
       "      <td>825</td>\n",
       "      <td>8-5</td>\n",
       "      <td>8</td>\n",
       "      <td>5</td>\n",
       "      <td>13</td>\n",
       "      <td>3</td>\n",
       "      <td>1</td>\n",
       "      <td>all games</td>\n",
       "      <td>Atlanta Falcons vs. Los Angeles Rams October 2...</td>\n",
       "      <td>1994</td>\n",
       "    </tr>\n",
       "    <tr>\n",
       "      <th>367</th>\n",
       "      <td>368</td>\n",
       "      <td>32-0</td>\n",
       "      <td>32</td>\n",
       "      <td>0</td>\n",
       "      <td>32</td>\n",
       "      <td>32</td>\n",
       "      <td>10</td>\n",
       "      <td>all games</td>\n",
       "      <td>Cleveland Browns vs. Arizona Cardinals Septemb...</td>\n",
       "      <td>1994</td>\n",
       "    </tr>\n",
       "    <tr>\n",
       "      <th>861</th>\n",
       "      <td>862</td>\n",
       "      <td>11-8</td>\n",
       "      <td>11</td>\n",
       "      <td>8</td>\n",
       "      <td>19</td>\n",
       "      <td>3</td>\n",
       "      <td>1</td>\n",
       "      <td>all games</td>\n",
       "      <td>Cleveland Browns vs. Houston Oilers October 13...</td>\n",
       "      <td>1994</td>\n",
       "    </tr>\n",
       "    <tr>\n",
       "      <th>978</th>\n",
       "      <td>979</td>\n",
       "      <td>40-8</td>\n",
       "      <td>40</td>\n",
       "      <td>8</td>\n",
       "      <td>48</td>\n",
       "      <td>32</td>\n",
       "      <td>1</td>\n",
       "      <td>all games</td>\n",
       "      <td>Philadelphia Eagles vs. San Francisco 49ers Oc...</td>\n",
       "      <td>1994</td>\n",
       "    </tr>\n",
       "  </tbody>\n",
       "</table>\n",
       "</div>"
      ],
      "text/plain": [
       "      Rk  Score  PtsW  PtsL  PtTot  PD  Count Unnamed: 7  \\\n",
       "506  507  35-15    35    15     50  20      5  all games   \n",
       "579  580  41-19    41    19     60  22      4  all games   \n",
       "445  446  42-31    42    31     73  11      7  all games   \n",
       "824  825    8-5     8     5     13   3      1  all games   \n",
       "367  368   32-0    32     0     32  32     10  all games   \n",
       "861  862   11-8    11     8     19   3      1  all games   \n",
       "978  979   40-8    40     8     48  32      1  all games   \n",
       "\n",
       "                                             Last Game  Year  \n",
       "506  San Diego Chargers vs. Seattle Seahawks Octobe...  1994  \n",
       "579  Detroit Lions vs. Minnesota Vikings December 1...  1994  \n",
       "445   Buffalo Bills vs. Miami Dolphins December 4 1994  1994  \n",
       "824  Atlanta Falcons vs. Los Angeles Rams October 2...  1994  \n",
       "367  Cleveland Browns vs. Arizona Cardinals Septemb...  1994  \n",
       "861  Cleveland Browns vs. Houston Oilers October 13...  1994  \n",
       "978  Philadelphia Eagles vs. San Francisco 49ers Oc...  1994  "
      ]
     },
     "execution_count": 60,
     "metadata": {},
     "output_type": "execute_result"
    }
   ],
   "source": [
    "since_1994[since_1994['Year'] == 1994]"
   ]
  },
  {
   "cell_type": "code",
   "execution_count": 61,
   "metadata": {},
   "outputs": [
    {
     "name": "stdout",
     "output_type": "stream",
     "text": [
      "<class 'pandas.core.frame.DataFrame'>\n",
      "Int64Index: 872 entries, 506 to 99\n",
      "Data columns (total 10 columns):\n",
      " #   Column      Non-Null Count  Dtype \n",
      "---  ------      --------------  ----- \n",
      " 0   Rk          872 non-null    int64 \n",
      " 1   Score       872 non-null    object\n",
      " 2   PtsW        872 non-null    int64 \n",
      " 3   PtsL        872 non-null    int64 \n",
      " 4   PtTot       872 non-null    int64 \n",
      " 5   PD          872 non-null    int64 \n",
      " 6   Count       872 non-null    int64 \n",
      " 7   Unnamed: 7  872 non-null    object\n",
      " 8   Last Game   872 non-null    object\n",
      " 9   Year        872 non-null    int64 \n",
      "dtypes: int64(7), object(3)\n",
      "memory usage: 74.9+ KB\n"
     ]
    }
   ],
   "source": [
    "since_1994.info()"
   ]
  },
  {
   "cell_type": "markdown",
   "metadata": {},
   "source": [
    "# Histogram since 1994\n",
    "Pretty much tells the same story, except it dips sharply at the end. That's probably 2023 scores, since all we have from 2023 is the last two weeks of the 2022 regular season and the playoffs."
   ]
  },
  {
   "cell_type": "code",
   "execution_count": 62,
   "metadata": {},
   "outputs": [
    {
     "data": {
      "image/png": "[encoded data removed]",
      "text/plain": [
       "<Figure size 432x288 with 1 Axes>"
      ]
     },
     "metadata": {
      "needs_background": "light"
     },
     "output_type": "display_data"
    }
   ],
   "source": [
    "plt.hist(since_1994['Year'], bins = 30);"
   ]
  },
  {
   "cell_type": "markdown",
   "metadata": {},
   "source": [
    "# Sorting by frequency\n",
    "Now we'll sort the table by the count of scores again so that 20-17, the most frequent score in NFL history, is at the top. Then we'll create lists from the winning scores and losing scores columns and merge them into a list of tuples."
   ]
  },
  {
   "cell_type": "code",
   "execution_count": 63,
   "metadata": {},
   "outputs": [],
   "source": [
    "since_1994 = since_1994.sort_values(by = 'Count', ascending = False)"
   ]
  },
  {
   "cell_type": "code",
   "execution_count": 64,
   "metadata": {},
   "outputs": [],
   "source": [
    "winning_scores = since_1994['PtsW'].values.tolist()"
   ]
  },
  {
   "cell_type": "code",
   "execution_count": 65,
   "metadata": {},
   "outputs": [],
   "source": [
    "losing_scores = since_1994['PtsL'].values.tolist()"
   ]
  },
  {
   "cell_type": "code",
   "execution_count": 66,
   "metadata": {},
   "outputs": [],
   "source": [
    "score_combos = [(winning_scores[i], losing_scores[i]) for i in range(len(winning_scores))]"
   ]
  },
  {
   "cell_type": "code",
   "execution_count": 67,
   "metadata": {},
   "outputs": [
    {
     "data": {
      "text/plain": [
       "[(36, 32),\n",
       " (52, 27),\n",
       " (58, 0),\n",
       " (49, 19),\n",
       " (59, 24),\n",
       " (13, 8),\n",
       " (49, 23),\n",
       " (46, 16),\n",
       " (59, 28),\n",
       " (39, 23),\n",
       " (36, 18),\n",
       " (46, 34),\n",
       " (23, 11),\n",
       " (56, 35),\n",
       " (48, 29),\n",
       " (54, 31),\n",
       " (33, 15),\n",
       " (49, 11),\n",
       " (51, 20),\n",
       " (49, 9),\n",
       " (39, 30),\n",
       " (54, 11),\n",
       " (22, 18),\n",
       " (51, 26),\n",
       " (54, 19),\n",
       " (48, 45),\n",
       " (37, 37),\n",
       " (53, 20),\n",
       " (45, 44),\n",
       " (43, 22),\n",
       " (36, 16),\n",
       " (43, 8),\n",
       " (51, 34),\n",
       " (26, 26),\n",
       " (39, 33),\n",
       " (28, 2),\n",
       " (56, 31),\n",
       " (55, 31),\n",
       " (51, 28),\n",
       " (53, 32)]"
      ]
     },
     "execution_count": 67,
     "metadata": {},
     "output_type": "execute_result"
    }
   ],
   "source": [
    "score_combos[-40:]"
   ]
  },
  {
   "cell_type": "markdown",
   "metadata": {},
   "source": [
    "# Now for the scraping\n",
    "I wrote the three functions below and have used them in other scraping projects. The indexing in the return of the get_headers function is customized depending on the project because we only really need relevant table headers at the top.\n",
    "\n",
    "The next step is to extract the date of each dataframe we scrape so that we only count games since the 1994 season. Then all we'll need is the length of the dataframe to get the frequency of each score since 1994. \n",
    "\n",
    "The goal here is to create a dataframe with each row consisting of a winning score, a losing score, the last digit of the winning score, the last digit of the losing score and then the count of that score. \n",
    "\n",
    "We imported the time library to try to space out our scraping calls so we don't get shut down for too many scrapes. Then we created a list of the indexes for the score_combos tuples list because when we scrape, we need to fill in the blanks in the urls with a winning score and a losing score.\n",
    "\n",
    "Then we have a giant for loop that we'll explain with comments.\n",
    "\n",
    "We scraped the first 30 tables without using that for loop. Then we got the next 495 before our scraping session was terminated. Then we got 235 more and finally the last 112."
   ]
  },
  {
   "cell_type": "code",
   "execution_count": 68,
   "metadata": {},
   "outputs": [],
   "source": [
    "#Extracting all table header tags\n",
    "def get_headers(table):\n",
    "    headers = table.find_all('th')\n",
    "    cols = []\n",
    "    for header in headers:\n",
    "        cols.append(header.get_text().strip('\\t'))\n",
    "    return cols[1:15] #This is a customized index because only the 2nd through the 15th th tags are needed"
   ]
  },
  {
   "cell_type": "code",
   "execution_count": 69,
   "metadata": {},
   "outputs": [],
   "source": [
    "#Getting content of each cell\n",
    "def get_content(table):\n",
    "    content = table.find_all('td')\n",
    "    table_content = []\n",
    "    for item in content:\n",
    "        table_content.append(item.get_text().strip(' '))\n",
    "    table_content = [content.strip('\\t') for content in table_content]  \n",
    "    return table_content"
   ]
  },
  {
   "cell_type": "code",
   "execution_count": 70,
   "metadata": {},
   "outputs": [],
   "source": [
    "#Dividing content by length of headers to get rows\n",
    "def get_rows(cols, content):\n",
    "    num_rows = len(content)/len(cols)\n",
    "    content = iter(content)\n",
    "    rows = []\n",
    "    for i in range(int(num_rows)):\n",
    "        new_row = []\n",
    "        for j in range(len(cols)):\n",
    "            new_row.append(next(content))\n",
    "        rows.append(new_row)\n",
    "    return rows"
   ]
  },
  {
   "cell_type": "code",
   "execution_count": 77,
   "metadata": {},
   "outputs": [
    {
     "data": {
      "text/plain": [
       "(53, 32)"
      ]
     },
     "execution_count": 77,
     "metadata": {},
     "output_type": "execute_result"
    }
   ],
   "source": [
    "score_combos[871]"
   ]
  },
  {
   "cell_type": "code",
   "execution_count": 72,
   "metadata": {},
   "outputs": [],
   "source": [
    "import time"
   ]
  },
  {
   "cell_type": "code",
   "execution_count": 73,
   "metadata": {},
   "outputs": [],
   "source": [
    "loop_rows = list(np.arange(760, 872, 14))"
   ]
  },
  {
   "cell_type": "code",
   "execution_count": 74,
   "metadata": {},
   "outputs": [
    {
     "data": {
      "text/plain": [
       "[760, 774, 788, 802, 816, 830, 844, 858]"
      ]
     },
     "execution_count": 74,
     "metadata": {},
     "output_type": "execute_result"
    }
   ],
   "source": [
    "loop_rows"
   ]
  },
  {
   "cell_type": "code",
   "execution_count": 75,
   "metadata": {},
   "outputs": [
    {
     "name": "stdout",
     "output_type": "stream",
     "text": [
      "Rows 760-774 done\n",
      "Rows 774-788 done\n",
      "Rows 788-802 done\n",
      "Rows 802-816 done\n",
      "Rows 816-830 done\n",
      "Rows 830-844 done\n",
      "Rows 844-858 done\n",
      "Rows 858-872 done\n"
     ]
    }
   ],
   "source": [
    "#Scraping Pro Football Reference\n",
    "list_of_rows = []\n",
    "for a in range(len(loop_rows)): #The plan is to scrape 8 pages at a time (instead of 20, which got us shut down)\n",
    "    loop_start = loop_rows[a] #This outer loops over the list of index numbers for the score_combos tuples list.\n",
    "    loop_finish = loop_rows[a] + 14\n",
    "    for i in range(loop_start, loop_finish):\n",
    "        temp_row = []\n",
    "        pff_string = 'https://www.pro-football-reference.com/boxscores/game_scores_find.cgi?pts_win='\\\n",
    "        + str(score_combos[i][0]) + '&pts_lose=' + str(score_combos[i][1])\n",
    "        pff_page = requests.get(pff_string)\n",
    "        pff_html_doc = pff_page.text\n",
    "        pff_soup_obj = BeautifulSoup(pff_html_doc)\n",
    "        tables = pff_soup_obj.find_all('table') #Extract the tables from the Beautiful Soup object. It's a list of one.\n",
    "        headers = get_headers(tables[0]) #Calling first function. Getting table header (th) tags\n",
    "        content = get_content(tables[0]) #Calling second function. Getting table data (td) tags\n",
    "        rows = get_rows(headers, content) #Calling third function\n",
    "        temp_df = pd.DataFrame(rows, columns = headers) #Creating a dataframe from the rows and headers\n",
    "        temp_df['Date'] = pd.to_datetime(temp_df['Date'])\n",
    "        temp_df = temp_df[temp_df['Date'] > '1994-06-01'] #Trimming the df to include only games since 1994 season started\n",
    "        win_score = str(score_combos[i][0])\n",
    "        lose_score = str(score_combos[i][1])\n",
    "        #Creating a tuple from five variables, winning score, losing score, last digit of winning score,\n",
    "        #last digit of losing score and length of our trimmed table\n",
    "        #Then looping over that tuple to fill in temp_row\n",
    "        #Then appending temp_row to list_of_rows\n",
    "        row_tuple = win_score, lose_score, win_score[-1:], lose_score[-1:], len(temp_df)\n",
    "        for j in range(len(row_tuple)):\n",
    "            temp_row.append(row_tuple[j])\n",
    "        list_of_rows.append(temp_row)\n",
    "    print(f\"Rows {loop_start}-{loop_finish} done\")\n",
    "    #Pausing for 60 seconds since according to Sports Reference, we can't scrape more than 20 times in a minute. \n",
    "    #We still had to run this loop four different times to get what we needed.\n",
    "    time.sleep(60)"
   ]
  },
  {
   "cell_type": "code",
   "execution_count": 78,
   "metadata": {},
   "outputs": [
    {
     "data": {
      "text/plain": [
       "([['43', '12', '3', '2', 1],\n",
       "  ['22', '8', '2', '8', 1],\n",
       "  ['19', '5', '9', '5', 1],\n",
       "  ['22', '15', '2', '5', 1],\n",
       "  ['47', '30', '7', '0', 1],\n",
       "  ['52', '25', '2', '5', 1],\n",
       "  ['40', '22', '0', '2', 1],\n",
       "  ['40', '35', '0', '5', 1],\n",
       "  ['40', '15', '0', '5', 1],\n",
       "  ['39', '13', '9', '3', 1]],\n",
       " [['36', '16', '6', '6', 1],\n",
       "  ['43', '8', '3', '8', 1],\n",
       "  ['51', '34', '1', '4', 1],\n",
       "  ['26', '26', '6', '6', 1],\n",
       "  ['39', '33', '9', '3', 1],\n",
       "  ['28', '2', '8', '2', 1],\n",
       "  ['56', '31', '6', '1', 1],\n",
       "  ['55', '31', '5', '1', 1],\n",
       "  ['51', '28', '1', '8', 1],\n",
       "  ['53', '32', '3', '2', 1]])"
      ]
     },
     "execution_count": 78,
     "metadata": {},
     "output_type": "execute_result"
    }
   ],
   "source": [
    "list_of_rows[:10], list_of_rows[-10:]"
   ]
  },
  {
   "cell_type": "code",
   "execution_count": 79,
   "metadata": {},
   "outputs": [
    {
     "data": {
      "text/plain": [
       "112"
      ]
     },
     "execution_count": 79,
     "metadata": {},
     "output_type": "execute_result"
    }
   ],
   "source": [
    "len(list_of_rows)"
   ]
  },
  {
   "cell_type": "markdown",
   "metadata": {},
   "source": [
    "# Converting to csv\n",
    "The since_94_cols list is the column headers. Then we create a dataframe from the list of rows that the giant for loop produced. "
   ]
  },
  {
   "cell_type": "code",
   "execution_count": 38,
   "metadata": {},
   "outputs": [],
   "source": [
    "since_94_cols = ['WScore', 'LScore', 'WLastDig', 'LLastDig', 'Count']"
   ]
  },
  {
   "cell_type": "code",
   "execution_count": 76,
   "metadata": {},
   "outputs": [],
   "source": [
    "last_112_df = pd.DataFrame(list_of_rows, columns = since_94_cols)\n",
    "filepath = r'C:\\Users\\Owner\\Tableau_Projects\\Super_Bowl_Squares/last_112.csv'\n",
    "last_112_df.to_csv(filepath)"
   ]
  },
  {
   "cell_type": "code",
   "execution_count": 72,
   "metadata": {},
   "outputs": [
    {
     "data": {
      "text/plain": [
       "872"
      ]
     },
     "execution_count": 72,
     "metadata": {},
     "output_type": "execute_result"
    }
   ],
   "source": [
    "len(since_1994)"
   ]
  },
  {
   "cell_type": "code",
   "execution_count": null,
   "metadata": {},
   "outputs": [],
   "source": []
  },
  {
   "cell_type": "code",
   "execution_count": null,
   "metadata": {},
   "outputs": [],
   "source": []
  },
  {
   "cell_type": "code",
   "execution_count": null,
   "metadata": {},
   "outputs": [],
   "source": []
  },
  {
   "cell_type": "code",
   "execution_count": 33,
   "metadata": {},
   "outputs": [],
   "source": []
  },
  {
   "cell_type": "code",
   "execution_count": null,
   "metadata": {},
   "outputs": [],
   "source": []
  }
 ],
 "metadata": {
  "kernelspec": {
   "display_name": "Python 3",
   "language": "python",
   "name": "python3"
  },
  "language_info": {
   "codemirror_mode": {
    "name": "ipython",
    "version": 3
   },
   "file_extension": ".py",
   "mimetype": "text/x-python",
   "name": "python",
   "nbconvert_exporter": "python",
   "pygments_lexer": "ipython3",
   "version": "3.8.5"
  }
 },
 "nbformat": 4,
 "nbformat_minor": 4
}
